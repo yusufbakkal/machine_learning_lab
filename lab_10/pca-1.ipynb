{
 "cells": [
  {
   "cell_type": "code",
   "execution_count": null,
   "id": "696b7ef5-f25c-43a2-9b2b-54fb18904cf1",
   "metadata": {},
   "outputs": [],
   "source": [
    "import pandas as pd\n",
    "import numpy as np\n",
    "import matplotlib.pyplot as plt\n",
    "%matplotlib inline\n",
    "import seaborn as sns "
   ]
  },
  {
   "cell_type": "code",
   "execution_count": null,
   "id": "edc2b291-e547-4377-b38d-1633b4f5e4f3",
   "metadata": {},
   "outputs": [],
   "source": [
    "from tensorflow.keras.datasets import cifar10\n",
    "(x_train,y_train),(x_test,y_test)=cifar10.load_data()\n",
    "print(\"training data shape:\",x_train.shape)\n",
    "print(\"test data shape:\",x_test.shape)\n"
   ]
  },
  {
   "cell_type": "code",
   "execution_count": null,
   "id": "cca3e56c-30b2-47ea-88d1-111c8d3784f2",
   "metadata": {},
   "outputs": [],
   "source": [
    "classes=np.unique(y_train)\n",
    "nClasses=len(classes)\n",
    "print('total number of outputs:',nClasses)\n",
    "print('output classes:',classes)"
   ]
  },
  {
   "cell_type": "code",
   "execution_count": null,
   "id": "04bef49c-a305-4654-b94a-051abf9c04fa",
   "metadata": {},
   "outputs": [],
   "source": [
    "label_dict={\n",
    "    0:'airplane',\n",
    "    1:'automobile',\n",
    "    2:'bird',\n",
    "    3:'cat',\n",
    "    4:'deer',\n",
    "    5:'dog',\n",
    "    6:'frog',\n",
    "    7:'horse',\n",
    "    8:'ship',\n",
    "    9:'truck'\n",
    "}"
   ]
  },
  {
   "cell_type": "code",
   "execution_count": null,
   "id": "1bc0d5a5-ff1c-43c9-8a04-170d4a4fed10",
   "metadata": {},
   "outputs": [],
   "source": [
    "plt.figure(figsize=[5,5])\n",
    "plt.subplot(121)\n",
    "curr_img=np.reshape(x_train[0],(32,32,3))\n",
    "plt.imshow(curr_img)\n",
    "print(plt.title(\"(Label:\" +str(label_dict[y_train[0][0]])+\")\"))\n",
    "\n",
    "plt.subplot(122)\n",
    "curr_img=np.reshape(x_test[0],(32,32,3))\n",
    "plt.imshow(curr_img)\n",
    "print(plt.title(\"(Label:\" +str(label_dict[y_test[0][0]])+\")\"))\n",
    "\n"
   ]
  },
  {
   "cell_type": "code",
   "execution_count": null,
   "id": "f58f12a4-69d2-4816-a878-b253d3e970c5",
   "metadata": {},
   "outputs": [],
   "source": [
    "np.min(x_train),np.max(x_train)"
   ]
  },
  {
   "cell_type": "code",
   "execution_count": null,
   "id": "d288b862-9ddd-47ce-9772-c9b117bc2186",
   "metadata": {},
   "outputs": [],
   "source": [
    "x_train=x_train/255.0"
   ]
  },
  {
   "cell_type": "code",
   "execution_count": null,
   "id": "319f2590-42fd-4c70-9d4a-e6f7b632893a",
   "metadata": {},
   "outputs": [],
   "source": [
    "np.min(x_train),np.max(x_train)"
   ]
  },
  {
   "cell_type": "code",
   "execution_count": null,
   "id": "348f3698-0239-4b8c-a9ae-253d3e23d6ef",
   "metadata": {},
   "outputs": [],
   "source": [
    "x_train_flat=x_train.reshape(-1,3072)\n",
    "feat_cols=['pixel'+str(i) for i in range(x_train_flat.shape[1])]\n",
    "df_cifar=pd.DataFrame(x_train_flat,columns=feat_cols)\n",
    "df_cifar['label']=y_train\n",
    "print('size of dataframe:{}'.format(df_cifar.shape))"
   ]
  },
  {
   "cell_type": "code",
   "execution_count": null,
   "id": "6c7bc6ba-9bf5-4295-86b5-f30bdd5d20b0",
   "metadata": {},
   "outputs": [],
   "source": [
    "df_cifar.head()"
   ]
  },
  {
   "cell_type": "code",
   "execution_count": null,
   "id": "ef2220a1-888d-43fc-92c4-7006ef6b3027",
   "metadata": {},
   "outputs": [],
   "source": [
    "from sklearn.decomposition import PCA\n",
    "pca_cifar=PCA(n_components=2)\n",
    "principalcomponent_cifar=pca_cifar.fit_transform(df_cifar.iloc[:,:-1])"
   ]
  },
  {
   "cell_type": "code",
   "execution_count": null,
   "id": "5d135f0b-9a6c-4770-91f8-e3913693b0ea",
   "metadata": {},
   "outputs": [],
   "source": [
    "principal_cifar_Df=pd.DataFrame(data=principalcomponent_cifar,columns=['principal component 1','principal component 2'])\n",
    "principal_cifar_Df['y']=y_train"
   ]
  },
  {
   "cell_type": "code",
   "execution_count": null,
   "id": "d4c73a46-4e39-49a4-a370-3c6de9eb0d31",
   "metadata": {},
   "outputs": [],
   "source": [
    "principal_cifar_Df.head()"
   ]
  },
  {
   "cell_type": "code",
   "execution_count": null,
   "id": "39a7ae9a-db88-4608-9e9e-feefae5db05d",
   "metadata": {},
   "outputs": [],
   "source": [
    "pca_cifar.explained_variance_ratio_"
   ]
  },
  {
   "cell_type": "code",
   "execution_count": null,
   "id": "9eed0c6b-b249-4d6b-8d12-32d6f9a777c8",
   "metadata": {},
   "outputs": [],
   "source": [
    "plt.figure(figsize=(16,10))\n",
    "sns.scatterplot(\n",
    "    x=\"principal component 1\",y=\"principal component 2\",\n",
    "    hue=\"y\",\n",
    "    palette=sns.color_palette(\"hls\",10),\n",
    "    data=principal_cifar_Df,\n",
    "    legend=\"full\",\n",
    "    alpha=0.3\n",
    ")"
   ]
  },
  {
   "cell_type": "code",
   "execution_count": null,
   "id": "a03bca30-c10b-4d7a-9de8-5b78b0323955",
   "metadata": {},
   "outputs": [],
   "source": []
  }
 ],
 "metadata": {
  "kernelspec": {
   "display_name": "Python 3 (ipykernel)",
   "language": "python",
   "name": "python3"
  },
  "language_info": {
   "codemirror_mode": {
    "name": "ipython",
    "version": 3
   },
   "file_extension": ".py",
   "mimetype": "text/x-python",
   "name": "python",
   "nbconvert_exporter": "python",
   "pygments_lexer": "ipython3",
   "version": "3.11.8"
  }
 },
 "nbformat": 4,
 "nbformat_minor": 5
}
